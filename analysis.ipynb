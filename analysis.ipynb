{
 "cells": [
  {
   "cell_type": "code",
   "execution_count": null,
   "metadata": {},
   "outputs": [],
   "source": [
    "%pip install earthengine-api"
   ]
  },
  {
   "cell_type": "code",
   "execution_count": 29,
   "metadata": {},
   "outputs": [],
   "source": [
    "%matplotlib inline"
   ]
  },
  {
   "cell_type": "code",
   "execution_count": 5,
   "metadata": {},
   "outputs": [
    {
     "data": {
      "text/html": [
       "<p>To authorize access needed by Earth Engine, open the following\n",
       "        URL in a web browser and follow the instructions:</p>\n",
       "        <p><a href=https://code.earthengine.google.com/client-auth?scopes=https%3A//www.googleapis.com/auth/earthengine%20https%3A//www.googleapis.com/auth/cloud-platform%20https%3A//www.googleapis.com/auth/devstorage.full_control&request_id=kVTgOl37XATbdCmu4N2bnsXb1daCg3LWazSkCFWf3rs&tc=xl78DS7z3-xp-xbaqSYnodg8GD0e5afCKd2Opw2dv0Q&cc=qzkQarKyPls8-0qzUqsOiFJt9pW60vsY_wrPabCpw1s>https://code.earthengine.google.com/client-auth?scopes=https%3A//www.googleapis.com/auth/earthengine%20https%3A//www.googleapis.com/auth/cloud-platform%20https%3A//www.googleapis.com/auth/devstorage.full_control&request_id=kVTgOl37XATbdCmu4N2bnsXb1daCg3LWazSkCFWf3rs&tc=xl78DS7z3-xp-xbaqSYnodg8GD0e5afCKd2Opw2dv0Q&cc=qzkQarKyPls8-0qzUqsOiFJt9pW60vsY_wrPabCpw1s</a></p>\n",
       "        <p>The authorization workflow will generate a code, which you should paste in the box below.</p>\n",
       "        "
      ],
      "text/plain": [
       "<IPython.core.display.HTML object>"
      ]
     },
     "metadata": {},
     "output_type": "display_data"
    },
    {
     "name": "stdout",
     "output_type": "stream",
     "text": [
      "\n",
      "Successfully saved authorization token.\n"
     ]
    }
   ],
   "source": [
    "import ee\n",
    "ee.Authenticate()\n",
    "ee.Initialize()"
   ]
  },
  {
   "cell_type": "code",
   "execution_count": 6,
   "metadata": {},
   "outputs": [],
   "source": [
    "import ee\n",
    "\n",
    "# Re-initialize just in case\n",
    "ee.Initialize()\n",
    "\n",
    "# Define the bounding box roughly over Siberia\n",
    "siberia = ee.Geometry.Rectangle([60, 57, 140, 72])  # (lon_min, lat_min, lon_max, lat_max)\n",
    "\n",
    "# Time range\n",
    "start_date = '2013-01-01'\n",
    "end_date = '2023-12-31'"
   ]
  },
  {
   "cell_type": "code",
   "execution_count": 8,
   "metadata": {},
   "outputs": [
    {
     "name": "stdout",
     "output_type": "stream",
     "text": [
      "Number of images: 3693\n"
     ]
    }
   ],
   "source": [
    "# Load MODIS Albedo data\n",
    "modis_albedo = ee.ImageCollection(\"MODIS/006/MCD43A3\") \\\n",
    "    .filterDate(start_date, end_date) \\\n",
    "    .filterBounds(siberia)\n",
    "\n",
    "# Print how many images were found\n",
    "print(\"Number of images:\", modis_albedo.size().getInfo())"
   ]
  },
  {
   "cell_type": "code",
   "execution_count": 9,
   "metadata": {},
   "outputs": [],
   "source": [
    "def summer_mean(year):\n",
    "    start = ee.Date.fromYMD(year, 6, 1)\n",
    "    end = ee.Date.fromYMD(year, 8, 31)\n",
    "    summer = modis_albedo.filterDate(start, end)\n",
    "    return summer.mean().set('year', year)\n",
    "\n",
    "# Generate yearly summer means from 2000 to 2022\n",
    "years = list(range(2000, 2023))\n",
    "summer_means = ee.ImageCollection([summer_mean(y) for y in years])"
   ]
  },
  {
   "cell_type": "code",
   "execution_count": 10,
   "metadata": {},
   "outputs": [],
   "source": [
    "# Stack all years for a linear regression trend analysis\n",
    "def add_time(image):\n",
    "    year = ee.Number(image.get('year'))\n",
    "    return image.addBands(ee.Image.constant(year).rename('year')).select(['Albedo_BSA_Band1', 'year'])\n",
    "\n",
    "with_time = summer_means.map(add_time)\n",
    "\n",
    "# Perform linear regression\n",
    "linear_fit = with_time.select(['year', 'Albedo_BSA_Band1']).reduce(ee.Reducer.linearFit())"
   ]
  },
  {
   "cell_type": "code",
   "execution_count": 13,
   "metadata": {},
   "outputs": [],
   "source": [
    "def get_monthly_albedo(year, month, region):\n",
    "    # Format month as '01', '02', etc.\n",
    "    month_str = str(month).zfill(2)\n",
    "    start = ee.Date(f\"{year}-{month_str}-01\")\n",
    "    end = start.advance(1, 'month')\n",
    "\n",
    "    collection = ee.ImageCollection(\"MODIS/006/MCD43A3\") \\\n",
    "        .filterDate(start, end) \\\n",
    "        .filterBounds(region) \\\n",
    "        .select('Albedo_WSA_shortwave')\n",
    "\n",
    "    monthly_mean = collection.mean().set({\n",
    "        'year': year,\n",
    "        'month': month,\n",
    "        'label': 'snow' if month in [12, 1, 2] else 'leaf' if month in [6, 7, 8] else 'transition'\n",
    "    })\n",
    "\n",
    "    return monthly_mean"
   ]
  },
  {
   "cell_type": "code",
   "execution_count": 14,
   "metadata": {},
   "outputs": [],
   "source": [
    "years = list(range(2001, 2021))\n",
    "months = list(range(1, 13))\n",
    "\n",
    "monthly_albedo_images = []\n",
    "\n",
    "for year in years:\n",
    "    for month in months:\n",
    "        img = get_monthly_albedo(year, month, siberia)\n",
    "        monthly_albedo_images.append(img)\n",
    "\n",
    "# Create an image collection\n",
    "monthly_albedo_ic = ee.ImageCollection(monthly_albedo_images)"
   ]
  },
  {
   "cell_type": "code",
   "execution_count": 15,
   "metadata": {},
   "outputs": [],
   "source": [
    "task = ee.batch.Export.table.toDrive(\n",
    "    collection=monthly_albedo_ic,\n",
    "    description='Monthly_Albedo_Stats',\n",
    "    fileFormat='CSV'\n",
    ")\n",
    "task.start()"
   ]
  },
  {
   "cell_type": "code",
   "execution_count": 17,
   "metadata": {},
   "outputs": [
    {
     "data": {
      "text/html": [
       "<div>\n",
       "<style scoped>\n",
       "    .dataframe tbody tr th:only-of-type {\n",
       "        vertical-align: middle;\n",
       "    }\n",
       "\n",
       "    .dataframe tbody tr th {\n",
       "        vertical-align: top;\n",
       "    }\n",
       "\n",
       "    .dataframe thead th {\n",
       "        text-align: right;\n",
       "    }\n",
       "</style>\n",
       "<table border=\"1\" class=\"dataframe\">\n",
       "  <thead>\n",
       "    <tr style=\"text-align: right;\">\n",
       "      <th></th>\n",
       "      <th>system:index</th>\n",
       "      <th>label</th>\n",
       "      <th>month</th>\n",
       "      <th>system:band_names</th>\n",
       "      <th>system:bands</th>\n",
       "      <th>year</th>\n",
       "      <th>.geo</th>\n",
       "    </tr>\n",
       "  </thead>\n",
       "  <tbody>\n",
       "    <tr>\n",
       "      <th>0</th>\n",
       "      <td>0</td>\n",
       "      <td>snow</td>\n",
       "      <td>1</td>\n",
       "      <td>[Albedo_WSA_shortwave]</td>\n",
       "      <td>&lt;Element&gt;</td>\n",
       "      <td>2001</td>\n",
       "      <td>{\"type\":\"Polygon\",\"coordinates\":[[[-180.0,-90....</td>\n",
       "    </tr>\n",
       "    <tr>\n",
       "      <th>1</th>\n",
       "      <td>1</td>\n",
       "      <td>snow</td>\n",
       "      <td>2</td>\n",
       "      <td>[Albedo_WSA_shortwave]</td>\n",
       "      <td>&lt;Element&gt;</td>\n",
       "      <td>2001</td>\n",
       "      <td>{\"type\":\"Polygon\",\"coordinates\":[[[-180.0,-90....</td>\n",
       "    </tr>\n",
       "    <tr>\n",
       "      <th>2</th>\n",
       "      <td>2</td>\n",
       "      <td>transition</td>\n",
       "      <td>3</td>\n",
       "      <td>[Albedo_WSA_shortwave]</td>\n",
       "      <td>&lt;Element&gt;</td>\n",
       "      <td>2001</td>\n",
       "      <td>{\"type\":\"Polygon\",\"coordinates\":[[[-180.0,-90....</td>\n",
       "    </tr>\n",
       "    <tr>\n",
       "      <th>3</th>\n",
       "      <td>3</td>\n",
       "      <td>transition</td>\n",
       "      <td>4</td>\n",
       "      <td>[Albedo_WSA_shortwave]</td>\n",
       "      <td>&lt;Element&gt;</td>\n",
       "      <td>2001</td>\n",
       "      <td>{\"type\":\"Polygon\",\"coordinates\":[[[-180.0,-90....</td>\n",
       "    </tr>\n",
       "    <tr>\n",
       "      <th>4</th>\n",
       "      <td>4</td>\n",
       "      <td>transition</td>\n",
       "      <td>5</td>\n",
       "      <td>[Albedo_WSA_shortwave]</td>\n",
       "      <td>&lt;Element&gt;</td>\n",
       "      <td>2001</td>\n",
       "      <td>{\"type\":\"Polygon\",\"coordinates\":[[[-180.0,-90....</td>\n",
       "    </tr>\n",
       "  </tbody>\n",
       "</table>\n",
       "</div>"
      ],
      "text/plain": [
       "   system:index       label  month       system:band_names system:bands  year  \\\n",
       "0             0        snow      1  [Albedo_WSA_shortwave]    <Element>  2001   \n",
       "1             1        snow      2  [Albedo_WSA_shortwave]    <Element>  2001   \n",
       "2             2  transition      3  [Albedo_WSA_shortwave]    <Element>  2001   \n",
       "3             3  transition      4  [Albedo_WSA_shortwave]    <Element>  2001   \n",
       "4             4  transition      5  [Albedo_WSA_shortwave]    <Element>  2001   \n",
       "\n",
       "                                                .geo  \n",
       "0  {\"type\":\"Polygon\",\"coordinates\":[[[-180.0,-90....  \n",
       "1  {\"type\":\"Polygon\",\"coordinates\":[[[-180.0,-90....  \n",
       "2  {\"type\":\"Polygon\",\"coordinates\":[[[-180.0,-90....  \n",
       "3  {\"type\":\"Polygon\",\"coordinates\":[[[-180.0,-90....  \n",
       "4  {\"type\":\"Polygon\",\"coordinates\":[[[-180.0,-90....  "
      ]
     },
     "execution_count": 17,
     "metadata": {},
     "output_type": "execute_result"
    }
   ],
   "source": [
    "import pandas as pd\n",
    "\n",
    "df = pd.read_csv('Monthly_Albedo_Stats.csv')\n",
    "df.head()"
   ]
  },
  {
   "cell_type": "code",
   "execution_count": null,
   "metadata": {},
   "outputs": [],
   "source": [
    "# Make sure 'label', 'year', and 'mean' exist\n",
    "df['year'] = df['year'].astype(int)\n",
    "df['label'] = df['label'].astype(str)\n",
    "\n",
    "# Group by year and season label\n",
    "seasonal_means = df.groupby(['year', 'label'])['mean'].mean().unstack()\n",
    "seasonal_means.plot(kind='line', title='Seasonal Albedo Trends')"
   ]
  },
  {
   "cell_type": "code",
   "execution_count": 21,
   "metadata": {},
   "outputs": [],
   "source": [
    "def get_season(month):\n",
    "    if month in [12, 1, 2]:\n",
    "        return 'snow'\n",
    "    elif month in [6, 7, 8]:\n",
    "        return 'leaf'\n",
    "    else:\n",
    "        return 'transition'\n",
    "def compute_mean_albedo(image):\n",
    "    # Get image date info\n",
    "    date = ee.Date(image.get('system:time_start'))\n",
    "    year = date.get('year')\n",
    "    month = date.get('month')\n",
    "    \n",
    "    # Reduce region to get mean albedo over Siberia\n",
    "    mean_dict = image.reduceRegion(\n",
    "        reducer=ee.Reducer.mean(),\n",
    "        geometry=siberia,\n",
    "        scale=500,\n",
    "        maxPixels=1e13\n",
    "    )\n",
    "    \n",
    "    # Add results as properties\n",
    "    return ee.Feature(None, {\n",
    "        'mean_albedo': mean_dict.get('Albedo_WSA_shortwave'),\n",
    "        'year': year,\n",
    "        'month': month,\n",
    "        'season': get_season_from_month(month)\n",
    "    })\n",
    "def get_season_from_month(month):\n",
    "    # This wraps our Python logic into EE expression logic\n",
    "    return ee.Algorithms.If(\n",
    "        ee.Number(month).eq(12).Or(ee.Number(month).lte(2)), 'snow',\n",
    "        ee.Algorithms.If(\n",
    "            ee.Number(month).gte(6).And(ee.Number(month).lte(8)), 'leaf',\n",
    "            'transition'\n",
    "        )\n",
    "    )\n",
    "features = modis_albedo.map(compute_mean_albedo)\n",
    "task = ee.batch.Export.table.toDrive(\n",
    "    collection=features,\n",
    "    description='Siberia_Monthly_Albedo',\n",
    "    fileFormat='CSV'\n",
    ")\n",
    "task.start()"
   ]
  },
  {
   "cell_type": "code",
   "execution_count": 23,
   "metadata": {},
   "outputs": [],
   "source": [
    "import pandas as pd\n",
    "\n",
    "df = pd.read_csv(\"Siberia_Albedo_Seasonal.csv\")  # Replace with your actual filename"
   ]
  },
  {
   "cell_type": "code",
   "execution_count": 24,
   "metadata": {},
   "outputs": [
    {
     "name": "stdout",
     "output_type": "stream",
     "text": [
      "    month  mean_albedo\n",
      "0       1   372.990903\n",
      "1       2   443.641769\n",
      "2       3   536.164851\n",
      "3       4   564.448584\n",
      "4       5   441.922345\n",
      "5       6   194.803019\n",
      "6       7   128.950962\n",
      "7       8   123.029697\n",
      "8       9   143.176762\n",
      "9      10   316.027574\n",
      "10     11   342.409513\n",
      "11     12   271.096920\n"
     ]
    }
   ],
   "source": [
    "monthly_avg = df.groupby('month')['mean_albedo'].mean().reset_index()\n",
    "print(monthly_avg)"
   ]
  },
  {
   "cell_type": "code",
   "execution_count": 25,
   "metadata": {},
   "outputs": [
    {
     "name": "stdout",
     "output_type": "stream",
     "text": [
      "       season  mean_albedo\n",
      "0        leaf   148.378789\n",
      "1        snow   374.950901\n",
      "2  transition   391.358490\n"
     ]
    }
   ],
   "source": [
    "seasonal_avg = df.groupby('season')['mean_albedo'].mean().reset_index()\n",
    "print(seasonal_avg)"
   ]
  },
  {
   "cell_type": "code",
   "execution_count": 30,
   "metadata": {},
   "outputs": [
    {
     "data": {
      "image/png": "[encoded data removed]",
      "text/plain": [
       "<Figure size 640x480 with 1 Axes>"
      ]
     },
     "metadata": {},
     "output_type": "display_data"
    }
   ],
   "source": [
    "import matplotlib.pyplot as plt\n",
    "\n",
    "monthly_avg.plot(x='month', y='mean_albedo', kind='bar')\n",
    "plt.title('Average Monthly Albedo')\n",
    "plt.xlabel('Month')\n",
    "plt.ylabel('Mean Albedo')\n",
    "plt.grid(True)\n",
    "plt.show()"
   ]
  }
 ],
 "metadata": {
  "kernelspec": {
   "display_name": "Python 3",
   "language": "python",
   "name": "python3"
  },
  "language_info": {
   "codemirror_mode": {
    "name": "ipython",
    "version": 3
   },
   "file_extension": ".py",
   "mimetype": "text/x-python",
   "name": "python",
   "nbconvert_exporter": "python",
   "pygments_lexer": "ipython3",
   "version": "3.11.4"
  },
  "orig_nbformat": 4
 },
 "nbformat": 4,
 "nbformat_minor": 2
}
